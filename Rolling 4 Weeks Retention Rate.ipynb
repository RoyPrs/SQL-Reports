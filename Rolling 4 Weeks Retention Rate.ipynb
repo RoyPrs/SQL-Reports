{
 "cells": [
  {
   "cell_type": "markdown",
   "id": "c403d96d-aad6-4d60-8bb4-7594d7ca72bc",
   "metadata": {},
   "source": [
    "# Rolling 4 weeks Retention Rate\n",
    "### of Resellers in a dropshipping company"
   ]
  },
  {
   "cell_type": "markdown",
   "id": "66dac3a1-59fb-4085-b528-602a6129e429",
   "metadata": {},
   "source": [
    "In a dropshipping company, a resellers who makes an order in e.g. week n, is considered as retaind for week n+1, week n+2, and week n+1. In this report, for each week, I count the number of active users in the interval [week n-3, week n]."
   ]
  },
  {
   "cell_type": "markdown",
   "id": "c0484752-daad-473d-a754-11d7bf009674",
   "metadata": {},
   "source": [
    "with base AS (SELECT\n",
    "    `orders`.`ID` AS `OrderID`,\n",
    "    `orders`.`UserID` AS `UserID`,\n",
    "    `orders`.`CreatedAt` AS `OrderDate`,\n",
    "    `orders`.`FakeDelete` AS `FakeDelete`,\n",
    "    `Users`.`TotalOrders` AS `TotalOrders`,\n",
    "    `Users`.`CreatedAt` AS `JoinDate`,\n",
    "    `Vw Orders Is Net`.`isGross` AS `isGross`,\n",
    "    `Vw Users First Order`.`FirstOrderAt` AS `ActivationDate`,\n",
    "    DATEDIFF(`orders`.`CreatedAt`, `Vw Users First Order`.`FirstOrderAt`) + 1 AS `Day`,\n",
    "    CEILING((DATEDIFF(`orders`.`CreatedAt`, `Vw Users First Order`.`FirstOrderAt`)+1)/7) as `Week`,\n",
    "    DATEDIFF( `orders`.`CreatedAt`, coalesce( LAG(`orders`.`CreatedAt`) OVER ( PARTITION BY UserID ORDER BY `orders`.`CreatedAt`), 0)\n",
    "      ) AS DistanceFromPreviousOrder,\n",
    "    ROW_NUMBER() OVER (PARTITION BY UserID ORDER BY orders.CreatedAt DESC ) AS OrderOrder,\n",
    "    -- DATE_ADD(Day, INTERVAL 29 DAY) AS `RetentionDue`\n",
    "    DATEDIFF(`orders`.`CreatedAt`, `Vw Users First Order`.`FirstOrderAt`) + 30 AS `RetentionDue`,\n",
    "    DATEDIFF(`orders`.`CreatedAt`, `Vw Users First Order`.`FirstOrderAt`) - 29 AS `Start`\n",
    "FROM\n",
    "    `orders`\n",
    "    INNER JOIN `users` AS `Users` ON `orders`.`UserID` = `Users`.`ID`\n",
    "    INNER JOIN `vw_orders_is_net` AS `Vw Orders Is Net` ON `orders`.`ID` = `Vw Orders Is Net`.`OrderID`\n",
    "    INNER JOIN `vw_users_first_order` AS `Vw Users First Order` ON `Users`.`ID` = `Vw Users First Order`.`UserID`\n",
    "WHERE\n",
    "   (`Vw Orders Is Net`.`isGross` = 1)\n",
    "   AND (`orders`.`FakeDelete` = 0)\n",
    "ORDER BY `orders`.`UserID`),\n",
    "\n",
    "myOrder AS (SELECT Week, UserID FROM base GROUP BY Week, UserID ORDER BY Week),\n",
    "\n",
    "myWeeks AS (SELECT DISTINCT Week FROM myOrder ORDER BY Week),\n",
    "\n",
    "myJoin AS (SELECT myWeeks.Week AS WWeek, myOrder.Week as OWeek, UserID\n",
    "FROM myWeeks, myOrder\n",
    "WHERE myOrder.Week BETWEEN (myWeeks.Week-3) AND myWeeks.Week),\n",
    "\n",
    "myFinal AS (SELECT WWeek AS Week, COUNT(DISTINCT OWeek) AS Duration, MIN(OWeek) AS StartWeek, MAX(OWeek) AS EndWeek, COUNT(DISTINCT UserID) AS ActivesInInterval\n",
    "FROM  myJoin\n",
    "GROUP BY Week),\n",
    "\n",
    "allActivated AS (SELECT MAX(ActivesInInterval) AS AllActivation FROM myFinal)\n",
    "\n",
    "SELECT Week, StartWeek, Duration, EndWeek, ActivesInInterval, ActivesInInterval/AllActivation AS PercentActivesInInterval\n",
    "FROM  myFinal, allActivated\n",
    "WHERE Week > 4;"
   ]
  }
 ],
 "metadata": {
  "kernelspec": {
   "display_name": "Python 3 (ipykernel)",
   "language": "python",
   "name": "python3"
  },
  "language_info": {
   "codemirror_mode": {
    "name": "ipython",
    "version": 3
   },
   "file_extension": ".py",
   "mimetype": "text/x-python",
   "name": "python",
   "nbconvert_exporter": "python",
   "pygments_lexer": "ipython3",
   "version": "3.10.0"
  }
 },
 "nbformat": 4,
 "nbformat_minor": 5
}
