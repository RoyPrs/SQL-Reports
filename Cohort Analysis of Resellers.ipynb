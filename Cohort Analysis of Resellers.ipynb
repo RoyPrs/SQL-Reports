{
 "cells": [
  {
   "cell_type": "markdown",
   "id": "4f034fc9-00a8-4816-942e-cfd0908319ee",
   "metadata": {},
   "source": [
    "# Cohort Analysis\n",
    "### of Resellers in a Dropshipping Company"
   ]
  },
  {
   "cell_type": "markdown",
   "id": "eed734dd-c4ae-4e5f-9c43-387f85998d88",
   "metadata": {},
   "source": [
    "In this cohort analysis, I measured the retention rate of group of resellers who place at least 9 order in their first month of activation and place 9+ orders in the subsequent weeks. As a reseller makes an order in week n, she is considered as retained for week n, week n+1, week n+2, and week n+3. For this report, day 0 is the day in which resellers make their 9th order. So, here is my approach to create this report;\n",
    "\n",
    "1. Find resellers with 9+ orders in their first month.\n",
    "2. Among resellers from the previous step, find those who place 9+ orders in the subsequent weeks.\n",
    "3. For week n, retention = number of resellers with 9+ orders in [week n-3, week n] interval.\n",
    "4. Divide the retention by the number of resellers with 9+ orders in week 1."
   ]
  },
  {
   "cell_type": "markdown",
   "id": "e62941f3-33ca-4e50-93bc-b732e2d7c8c4",
   "metadata": {},
   "source": [
    "with base1 AS (SELECT\n",
    "    `orders`.`ID` AS `OrderID`,\n",
    "    `orders`.`UserID` AS `UserID`,\n",
    "    `orders`.`CreatedAt` AS `OrderDate`,\n",
    "    `orders`.`FakeDelete` AS `FakeDelete`,\n",
    "    `Users`.`TotalOrders` AS `TotalOrders`,\n",
    "    `Users`.`TotalGrossOrders` AS `GrossOrders`,\n",
    "    `Users`.`CreatedAt` AS `JoinDate`,\n",
    "    `Orders Is Net`.`isGross` AS `isGross`,\n",
    "    `Users First Order`.`FirstOrderAt` AS `ActivationDate`,\n",
    "    -- DATEDIFF(`orders`.`CreatedAt`, `Vw Users First Order`.`FirstOrderAt`) + 1 AS `Day`,\n",
    "    CEILING((DATEDIFF(`orders`.`CreatedAt`, `Users First Order`.`FirstOrderAt`)+1)/7) as `WeekActivation`,\n",
    "    CEILING((DATEDIFF(`orders`.`CreatedAt`, `Users First Order`.`FirstOrderAt`)+1)/30) as `MonthActivation`,\n",
    "    ROW_NUMBER() OVER (PARTITION BY UserID ORDER BY orders.CreatedAt ASC ) AS `OrderOrder`\n",
    "    FROM\n",
    "    `orders`\n",
    "    INNER JOIN `users` AS `Users` ON `orders`.`UserID` = `Users`.`ID`\n",
    "    INNER JOIN `vw_orders_is_net` AS `Orders Is Net` ON `orders`.`ID` = `Orders Is Net`.`OrderID`\n",
    "    INNER JOIN `vw_users_first_order` AS `Users First Order` ON `Users`.`ID` = `Users First Order`.`UserID`\n",
    "    WHERE\n",
    "    (`Orders Is Net`.`isGross` = 1)\n",
    "    AND (`orders`.`FakeDelete` = 0)\n",
    "    ORDER BY `orders`.`UserID`),\n",
    "    \n",
    "-- Users with 9+ orders in f30D. GraduationDate=date of 9th order\n",
    "with9Orders AS (SELECT UserID, OrderDate AS GraduationDate FROM base1\n",
    "    WHERE OrderOrder = 9 AND MonthActivation = 1),\n",
    "    \n",
    "-- Calculate GraduationWeek i.e. week1 = first week after nineth order\n",
    "graduation AS (SELECT base1.UserID, base1.OrderID, CEILING((DATEDIFF(base1.OrderDate, with9Orders.graduationDate)+1)/7) AS WeekGraduation\n",
    "    FROM base1\n",
    "    INNER JOIN with9Orders ON base1.UserID = with9Orders.UserID\n",
    "    WHERE OrderDate >= graduationDate),\n",
    "    \n",
    "-- Select weeks with 9+ Orders\n",
    "weekWith9 AS (SELECT UserID, WeekGraduation, COUNT(OrderID) AS orders\n",
    "    FROM graduation\n",
    "    GROUP BY UserID, WeekGraduation\n",
    "    HAVING orders > 8),\n",
    "    \n",
    "-- Create table of weeks\n",
    "myWeeks AS (SELECT DISTINCT WeekGraduation AS Week \n",
    "    FROM weekWith9 \n",
    "    ORDER BY WeekGraduation),\n",
    "\n",
    "-- Join tables to calculate retention    \n",
    "myJoin AS (SELECT myWeeks.Week AS WWeek, weekWith9.WeekGraduation as TWeek, UserID\n",
    "    FROM myWeeks, weekWith9\n",
    "    WHERE weekWith9.WeekGraduation BETWEEN (myWeeks.Week-(CASE WHEN MOD(myWeeks.Week, 4)> 0 THEN MOD(myWeeks.Week, 4)-1 ELSE 3 END)) AND myWeeks.Week),\n",
    "\n",
    "myFinal AS (SELECT WWeek AS Week, COUNT(DISTINCT TWeek) AS Duration, MIN(TWeek) AS StartWeek, MAX(TWeek) AS EndWeek, COUNT(DISTINCT UserID) AS ActivesInInterval\n",
    "    FROM  myJoin\n",
    "    GROUP BY Week),\n",
    "\n",
    "allActivated AS (SELECT COUNT(DISTINCT UserID) AS AllActivation \n",
    "    FROM with9Orders)\n",
    "\n",
    "SELECT Week, StartWeek, Duration, EndWeek, ActivesInInterval, (ActivesInInterval/AllActivation)*100 AS PercentActivesInInterval\n",
    "    FROM  myFinal, allActivated\n",
    "    WHERE Week > 4;\n",
    "    \n",
    "\n"
   ]
  }
 ],
 "metadata": {
  "kernelspec": {
   "display_name": "Python 3 (ipykernel)",
   "language": "python",
   "name": "python3"
  },
  "language_info": {
   "codemirror_mode": {
    "name": "ipython",
    "version": 3
   },
   "file_extension": ".py",
   "mimetype": "text/x-python",
   "name": "python",
   "nbconvert_exporter": "python",
   "pygments_lexer": "ipython3",
   "version": "3.10.0"
  }
 },
 "nbformat": 4,
 "nbformat_minor": 5
}
