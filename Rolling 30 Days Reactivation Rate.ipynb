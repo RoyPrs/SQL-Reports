{
 "cells": [
  {
   "cell_type": "markdown",
   "id": "b3a2dac2-3eee-4a17-bd17-b939162ab43d",
   "metadata": {},
   "source": [
    "# Rolling 30 Days Reactovation Rate\n",
    "### of Resellers in a dropshipping company"
   ]
  },
  {
   "cell_type": "markdown",
   "id": "79d9b1de-b2e0-4702-90ab-4c44e654b234",
   "metadata": {},
   "source": [
    "In a drpshipping company, once a reseller makes an order, she/he is considered retained for the next month, i.e. 29 days. If the place order in the course of this 29 days, they are retained for the next month. If they don't place order within 29 days, they are churned. Some resellers reactivate some days after churn and start placing orders over. \n",
    "\n",
    "With this report I created a chart showing the rolling reactivation rate of resellers over 30 days. Here is my approach to create this report;\n",
    "1. For each reseller, calculate the number of days beteween consequent orders (DistanceFromPreviousOrder).\n",
    "2. If DistanceFromPreviousOrder >= 30, then Reactivated = 1, else Reactivated = 0.\n",
    "3. For each date, count the number of Reactivated = 1 in interval [date-29 days, date].\n",
    "4. Divide the reactivation of each day by all churned resellers to obtain the reactivation rate.\n",
    "\n",
    "To calculate the number of churned resellers, I found the date of their last order and calculated the difference between current_date and last_order_date. If the difference is larger than 30, then the reseller has churned."
   ]
  },
  {
   "cell_type": "markdown",
   "id": "17a498d9-ec26-45a9-8943-e9895b7b2ad0",
   "metadata": {},
   "source": [
    "WITH basic1 AS ( SELECT\n",
    "      orders.ID AS OrderID,\n",
    "      orders.UserID AS UserID,\n",
    "      -- `orders`.`CreatedAt` AS `OrderDate`,\n",
    "      cast(`orders`.`CreatedAt` AS DATE) AS `OrderDate`,\n",
    "      `orders`.`FakeDelete` AS `FakeDelete`,\n",
    "      `orders`.`Type` AS `Type`,\n",
    "      --  users.CreatedAt as joinDate,\n",
    "      cast(users.CreatedAt AS DATE) AS `JoinDate`,\n",
    "      `Vw Orders Is Net`.`isGross` AS `isGross`,\n",
    "      `Vw Orders Is Net`.`isNet` AS `isNet`,\n",
    "      ROW_NUMBER() OVER ( PARTITION BY UserID ORDER BY orders.CreatedAt DESC ) AS OrderOrder,\n",
    "      DATEDIFF( `orders`.`CreatedAt`, coalesce( LEAD(`orders`.`CreatedAt`) OVER ( PARTITION BY UserID ORDER BY UserID), 0))         AS DistanceFromPreviousOrder\n",
    "    FROM\n",
    "      `orders`\n",
    "      INNER JOIN `users` ON `orders`.`UserID` = `users`.`ID`\n",
    "      INNER JOIN `vw_orders_is_net` AS `Vw Orders Is Net` ON `orders`.`ID` = `Vw Orders Is Net`.`OrderID`\n",
    "    WHERE\n",
    "      (`orders`.`Type` = 'order')\n",
    "      AND (`Vw Orders Is Net`.`isGross` = 1) ),\n",
    "  \n",
    "basic2 AS ( SELECT *,\n",
    "    CASE\n",
    "        WHEN `DistanceFromPreviousOrder` >= 30 THEN 1\n",
    "        ELSE 0\n",
    "      END AS `Reactivated`,\n",
    "      DATE_ADD(`OrderDate`, INTERVAL -29 DAY) AS `StartOfPeriod`,\n",
    "      `OrderDate` AS `EndOfPeriod`\n",
    "    FROM\n",
    "      basic1 ),\n",
    "  \n",
    "basic3 AS ( SELECT\n",
    "      OrderDate,\n",
    "      sum(Reactivated) AS Reactivated\n",
    "    FROM\n",
    "      basic2\n",
    "    GROUP BY\n",
    "      OrderDate\n",
    "    ORDER BY\n",
    "      OrderDate ASC ),\n",
    "  \n",
    "churn AS ( SELECT\n",
    "      count(*) allTimeChurn\n",
    "    FROM\n",
    "      basic1\n",
    "    WHERE\n",
    "      OrderOrder = 1\n",
    "      AND DATEDIFF(current_date(), OrderDate) > 30 )\n",
    "  \n",
    "  \n",
    "SELECT\n",
    "  OrderDate,\n",
    "  coalesce( SUM(Reactivated) OVER ( ORDER BY OrderDate ROWS BETWEEN 29 PRECEDING AND CURRENT ROW), 0) / allTimeChurn AS    L30DReactivated\n",
    "FROM\n",
    "  basic3,\n",
    "  churn\n",
    "ORDER BY\n",
    "  OrderDate DESC"
   ]
  }
 ],
 "metadata": {
  "kernelspec": {
   "display_name": "Python 3 (ipykernel)",
   "language": "python",
   "name": "python3"
  },
  "language_info": {
   "codemirror_mode": {
    "name": "ipython",
    "version": 3
   },
   "file_extension": ".py",
   "mimetype": "text/x-python",
   "name": "python",
   "nbconvert_exporter": "python",
   "pygments_lexer": "ipython3",
   "version": "3.10.0"
  }
 },
 "nbformat": 4,
 "nbformat_minor": 5
}
