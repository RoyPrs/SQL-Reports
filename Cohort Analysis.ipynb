{
 "cells": [
  {
   "cell_type": "markdown",
   "id": "5397360f-2fae-4aa0-a66a-45a19318ac94",
   "metadata": {},
   "source": [
    "# Cohort Analysis\n",
    "### of Resellers in a dropshipping company"
   ]
  },
  {
   "cell_type": "markdown",
   "id": "9cca31f5-d4f3-45ac-9403-87117ef28f79",
   "metadata": {},
   "source": [
    "The goal of this analysis is measuring the retention rate of resellers in a dropshipping company across weeks for resellers who place five orders in the first month of their activation.\n",
    "\n",
    "The day they place their first order is day 1, the week they place their first order is week 1, and the month they place their first order is month 1.\n",
    "- When place order in week 1, resellers are considered retained for weeks 1, 2, 3, 4.\n",
    "- When place order in week 2, resellers are considered retained for weeks 2, 3, 4.\n",
    "- When place order in week 3, resellers are considered retained for weeks 3, 4.\n",
    "- When place order in week 4, resellers are considered retained for week 4.\n",
    "- When place order in week 5, resellers are considered retained for weeks 5, 6, 7, 8.\n",
    "\n",
    "And so on, and so forth.\n",
    "\n",
    "In the end, the retion of each week is divided by the retantion of week 1 to calculate retention rate in each week.\n"
   ]
  },
  {
   "cell_type": "markdown",
   "id": "a729d9f6-0238-4f52-af77-780755aaf861",
   "metadata": {},
   "source": [
    "with base1 AS (SELECT\n",
    "    `orders`.`ID` AS `OrderID`,\n",
    "    `orders`.`UserID` AS `UserID`,\n",
    "    `orders`.`CreatedAt` AS `OrderDate`,\n",
    "    `orders`.`FakeDelete` AS `FakeDelete`,\n",
    "    `Users`.`TotalOrders` AS `TotalOrders`,\n",
    "    `Users`.`TotalGrossOrders` AS `GrossOrders`,\n",
    "    `Users`.`CreatedAt` AS `JoinDate`,\n",
    "    `Vw Orders Is Net`.`isGross` AS `isGross`,\n",
    "    `Vw Users First Order`.`FirstOrderAt` AS `ActivationDate`,\n",
    "    -- DATEDIFF(`orders`.`CreatedAt`, `Vw Users First Order`.`FirstOrderAt`) + 1 AS `Day`,\n",
    "    CEILING((DATEDIFF(`orders`.`CreatedAt`, `Vw Users First Order`.`FirstOrderAt`)+1)/7) as `WeekActivation`,\n",
    "    CEILING((DATEDIFF(`orders`.`CreatedAt`, `Vw Users First Order`.`FirstOrderAt`)+1)/30) as `MonthActivation`,\n",
    "    ROW_NUMBER() OVER (PARTITION BY UserID ORDER BY orders.CreatedAt ASC ) AS `OrderOrder`\n",
    "    FROM\n",
    "    `orders`\n",
    "    INNER JOIN `users` AS `Users` ON `orders`.`UserID` = `Users`.`ID`\n",
    "    INNER JOIN `vw_orders_is_net` AS `Vw Orders Is Net` ON `orders`.`ID` = `Vw Orders Is Net`.`OrderID`\n",
    "    INNER JOIN `vw_users_first_order` AS `Vw Users First Order` ON `Users`.`ID` = `Vw Users First Order`.`UserID`\n",
    "    WHERE\n",
    "    (`Vw Orders Is Net`.`isGross` = 1)\n",
    "    AND (`orders`.`FakeDelete` = 0)\n",
    "    ORDER BY `orders`.`UserID`),\n",
    "\n",
    "base2 AS (SELECT UserID, MonthActivation, MAX(WeekActivation), COUNT(OrderID) AS `#Orders`  FROM base1 GROUP BY UserID, MonthActivation ORDER By UserID, MonthActivation),\n",
    "\n",
    "fiveOrders AS (SELECT UserID, OrderDate, OrderOrder \n",
    "    FROM base1 \n",
    "    WHERE UserID IN (SELECT UserID  FROM base2 WHERE MonthActivation=1 and `#Orders`>4)),\n",
    "    \n",
    "graduation AS (SELECT UserID, MAX(OrderDate) AS graduationDate FROM fiveOrders WHERE OrderOrder=5 GROUP BY UserID),\n",
    "\n",
    "fiveOrdersGrad AS (SELECT fiveOrders.UserID, OrderDate, OrderOrder, graduationDate\n",
    "    FROM fiveOrders JOIN graduation ON fiveOrders.UserID = graduation.UserID ),\n",
    "    \n",
    "fiveOrdersComplete AS (SELECT UserID,  CEILING((DATEDIFF(OrderDate, graduationDate)+1)/7) AS WeekGraduation\n",
    "    FROM fiveOrdersGrad\n",
    "    WHERE OrderOrder > 2\n",
    "    GROUP BY WeekGraduation, UserID),\n",
    "    \n",
    "\n",
    "myWeeks AS (SELECT DISTINCT WeekGraduation AS Week FROM fiveOrdersComplete ORDER BY WeekGraduation),\n",
    "\n",
    "myJoin AS (SELECT myWeeks.Week AS WWeek, fiveOrdersComplete.WeekGraduation as TWeek, UserID\n",
    "FROM myWeeks, fiveOrdersComplete\n",
    "WHERE fiveOrdersComplete.WeekGraduation BETWEEN (myWeeks.Week-(CASE WHEN MOD(myWeeks.Week, 4)> 0 THEN MOD(myWeeks.Week, 4)-1 ELSE 3 END)) AND myWeeks.Week),\n",
    "\n",
    "myFinal AS (SELECT WWeek AS Week, COUNT(DISTINCT TWeek) AS Duration, MIN(TWeek) AS StartWeek, MAX(TWeek) AS EndWeek, COUNT(DISTINCT UserID) AS ActivesInInterval\n",
    "FROM  myJoin\n",
    "GROUP BY Week),\n",
    "\n",
    "allActivated AS (SELECT COUNT(DISTINCT UserID) AS AllActivation FROM fiveOrdersComplete WHERE WeekGraduation=1)\n",
    "\n",
    "SELECT Week, StartWeek, Duration, EndWeek, ActivesInInterval, ActivesInInterval/AllActivation AS PercentActivesInInterval\n",
    "FROM  myFinal, allActivated\n",
    "WHERE Week > 4;"
   ]
  }
 ],
 "metadata": {
  "kernelspec": {
   "display_name": "Python 3 (ipykernel)",
   "language": "python",
   "name": "python3"
  },
  "language_info": {
   "codemirror_mode": {
    "name": "ipython",
    "version": 3
   },
   "file_extension": ".py",
   "mimetype": "text/x-python",
   "name": "python",
   "nbconvert_exporter": "python",
   "pygments_lexer": "ipython3",
   "version": "3.10.0"
  }
 },
 "nbformat": 4,
 "nbformat_minor": 5
}
