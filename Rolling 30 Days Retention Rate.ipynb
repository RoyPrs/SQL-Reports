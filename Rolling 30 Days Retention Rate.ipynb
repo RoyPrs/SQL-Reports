{
 "cells": [
  {
   "cell_type": "markdown",
   "id": "77319271-14b7-4529-99ea-35e5d025ecdc",
   "metadata": {},
   "source": [
    "# Rolling 30 Days Retention Rate\n",
    "### of Resellers in a Dropshipping Company"
   ]
  },
  {
   "cell_type": "markdown",
   "id": "ec86672c-233a-4c38-ba20-82f16a4494a6",
   "metadata": {},
   "source": [
    "In a dropshipping company, once a resellers places an order, she is considered retaind for the next 29 days. If she maked more orders in this 29 days interval, she is retained, unless she is counted as churned.\n",
    "\n",
    "In this report, day 1 is the day each reseller place their forst order (also week 1 and month 1). To calculate the retention rate for each date, I count the number of retained resellers in the [date-29, date] interval. "
   ]
  },
  {
   "cell_type": "code",
   "execution_count": null,
   "id": "7a474ece-b8d3-4989-aedf-5250a7429fbd",
   "metadata": {},
   "outputs": [],
   "source": [
    "with base AS (SELECT\n",
    "    `orders`.`ID` AS `OrderID`,\n",
    "    `orders`.`UserID` AS `UserID`,\n",
    "    `orders`.`CreatedAt` AS `OrderDate`,\n",
    "    `orders`.`FakeDelete` AS `FakeDelete`,\n",
    "    `Users`.`TotalOrders` AS `TotalOrders`,\n",
    "    `Users`.`CreatedAt` AS `JoinDate`,\n",
    "    `Vw Orders Is Net`.`isGross` AS `isGross`,\n",
    "    `Vw Users First Order`.`FirstOrderAt` AS `ActivationDate`,\n",
    "    DATEDIFF(`orders`.`CreatedAt`, `Vw Users First Order`.`FirstOrderAt`) + 1 AS `Day`,\n",
    "    CEILING((DATEDIFF(`orders`.`CreatedAt`, `Vw Users First Order`.`FirstOrderAt`)+1)/7) as `Week`,\n",
    "    DATEDIFF( `orders`.`CreatedAt`, coalesce( LAG(`orders`.`CreatedAt`) OVER ( PARTITION BY UserID ORDER BY `orders`.`CreatedAt`), 0)\n",
    "      ) AS DistanceFromPreviousOrder,\n",
    "    ROW_NUMBER() OVER (PARTITION BY UserID ORDER BY orders.CreatedAt DESC ) AS OrderOrder,\n",
    "    -- DATE_ADD(Day, INTERVAL 29 DAY) AS `RetentionDue`\n",
    "    DATEDIFF(`orders`.`CreatedAt`, `Vw Users First Order`.`FirstOrderAt`) + 30 AS `RetentionDue`,\n",
    "    DATEDIFF(`orders`.`CreatedAt`, `Vw Users First Order`.`FirstOrderAt`) - 29 AS `Start`\n",
    "FROM\n",
    "    `orders`\n",
    "    INNER JOIN `users` AS `Users` ON `orders`.`UserID` = `Users`.`ID`\n",
    "    INNER JOIN `vw_orders_is_net` AS `Vw Orders Is Net` ON `orders`.`ID` = `Vw Orders Is Net`.`OrderID`\n",
    "    INNER JOIN `vw_users_first_order` AS `Vw Users First Order` ON `Users`.`ID` = `Vw Users First Order`.`UserID`\n",
    "WHERE\n",
    "   (`Vw Orders Is Net`.`isGross` = 1)\n",
    "   AND (`orders`.`FakeDelete` = 0)\n",
    "ORDER BY `orders`.`UserID`),\n",
    "\n",
    "myOrder AS (SELECT Day, UserID, max(RetentionDue) AS RetentionDue FROM base GROUP BY Day, UserID ORDER BY Day),\n",
    "\n",
    "myDays AS (SELECT DISTINCT Day FROM myOrder ORDER BY Day),\n",
    "\n",
    "myJoin AS (SELECT myDays.Day AS DDay, myOrder.Day AS ODay, UserID\n",
    "FROM myDays, myOrder\n",
    "WHERE myOrder.Day BETWEEN (myDays.Day-29) AND myDays.Day),\n",
    "\n",
    "myFinal AS (SELECT DDay AS Day, COUNT(DISTINCT ODay) AS Duration, MIN(ODay) AS StartDay, MAX(ODay) AS EndDay, COUNT(DISTINCT UserID) AS ActivesInInterval\n",
    "FROM  myJoin\n",
    "GROUP BY Day),\n",
    "\n",
    "allActivated AS (SELECT MAX(ActivesInInterval) AS AllActivation FROM myFinal)\n",
    "\n",
    "SELECT Day, Duration, StartDay, EndDay, ActivesInInterval, ActivesInInterval/AllActivation AS 'PercentActivesInInterval'\n",
    "FROM  myFinal, allActivated\n",
    "WHERE Day > 30;"
   ]
  }
 ],
 "metadata": {
  "kernelspec": {
   "display_name": "Python 3 (ipykernel)",
   "language": "python",
   "name": "python3"
  },
  "language_info": {
   "codemirror_mode": {
    "name": "ipython",
    "version": 3
   },
   "file_extension": ".py",
   "mimetype": "text/x-python",
   "name": "python",
   "nbconvert_exporter": "python",
   "pygments_lexer": "ipython3",
   "version": "3.10.0"
  }
 },
 "nbformat": 4,
 "nbformat_minor": 5
}
